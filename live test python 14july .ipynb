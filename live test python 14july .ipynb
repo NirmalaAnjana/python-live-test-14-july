{
 "cells": [
  {
   "cell_type": "code",
   "execution_count": 1,
   "id": "7debbae8-1c23-48de-be08-b2fd6d3ed7e0",
   "metadata": {},
   "outputs": [],
   "source": [
    "# question 1\n",
    "dict={'Rohit':47,'Virat':54,'Rahul':66}"
   ]
  },
  {
   "cell_type": "code",
   "execution_count": 2,
   "id": "6a24dcf5-fe1e-4c3f-beb9-d292529f54a1",
   "metadata": {},
   "outputs": [
    {
     "data": {
      "text/plain": [
       "{'Rohit': 47, 'Virat': 54, 'Rahul': 66}"
      ]
     },
     "execution_count": 2,
     "metadata": {},
     "output_type": "execute_result"
    }
   ],
   "source": [
    "dict"
   ]
  },
  {
   "cell_type": "code",
   "execution_count": 4,
   "id": "306a27dd-c722-413a-80dd-31fabcb793fa",
   "metadata": {},
   "outputs": [
    {
     "data": {
      "text/plain": [
       "54"
      ]
     },
     "execution_count": 4,
     "metadata": {},
     "output_type": "execute_result"
    }
   ],
   "source": [
    "dict['Virat']"
   ]
  },
  {
   "cell_type": "code",
   "execution_count": null,
   "id": "a003b6a0-2f19-4858-bacc-bb5405782c5b",
   "metadata": {},
   "outputs": [],
   "source": []
  },
  {
   "cell_type": "code",
   "execution_count": 5,
   "id": "98ff7257-91d8-4c97-9008-5b60a264c484",
   "metadata": {},
   "outputs": [],
   "source": [
    "# question 2\n",
    "dict1={'a':100,'b':2800,'c':300}"
   ]
  },
  {
   "cell_type": "code",
   "execution_count": 6,
   "id": "06238972-4797-4be2-82f8-c4738d8daa64",
   "metadata": {},
   "outputs": [
    {
     "data": {
      "text/plain": [
       "{'a': 100, 'b': 2800, 'c': 300}"
      ]
     },
     "execution_count": 6,
     "metadata": {},
     "output_type": "execute_result"
    }
   ],
   "source": [
    "dict1"
   ]
  },
  {
   "cell_type": "code",
   "execution_count": 7,
   "id": "ea08f4b6-76cf-4076-88ac-f48ff6e44646",
   "metadata": {},
   "outputs": [
    {
     "name": "stdout",
     "output_type": "stream",
     "text": [
      "value does not exist in dictionary\n"
     ]
    }
   ],
   "source": [
    "value=2700\n",
    "if value in dict1.values():\n",
    "    print('values exist in the dictionary')\n",
    "else:\n",
    "    print('value does not exist in dictionary')"
   ]
  },
  {
   "cell_type": "code",
   "execution_count": null,
   "id": "45ea44ca-762c-4541-93a8-f8dc59f3efe1",
   "metadata": {},
   "outputs": [],
   "source": []
  },
  {
   "cell_type": "code",
   "execution_count": 25,
   "id": "20d62f71-66d9-4374-b6c0-789ecbc38f1a",
   "metadata": {},
   "outputs": [],
   "source": [
    "# question 3\n",
    "set={\"surya\",\"kapil\",\"MSD\"}"
   ]
  },
  {
   "cell_type": "code",
   "execution_count": 26,
   "id": "b890b04e-d8db-4752-912a-6d08e0c7731f",
   "metadata": {},
   "outputs": [],
   "source": [
    "list=[\"sachin\",\"siraj\",\"sehwag\"]"
   ]
  },
  {
   "cell_type": "code",
   "execution_count": 19,
   "id": "11c52434-6f67-4043-af14-6b00ff7c7b19",
   "metadata": {},
   "outputs": [
    {
     "data": {
      "text/plain": [
       "{'MSD', 'kapil', 'surya'}"
      ]
     },
     "execution_count": 19,
     "metadata": {},
     "output_type": "execute_result"
    }
   ],
   "source": [
    "set"
   ]
  },
  {
   "cell_type": "code",
   "execution_count": 22,
   "id": "b9207e9b-8f1b-468f-90a2-fd82f356f551",
   "metadata": {},
   "outputs": [],
   "source": [
    "set.update(list)"
   ]
  },
  {
   "cell_type": "code",
   "execution_count": 11,
   "id": "ac427966-b4ac-4e9a-bd7d-fcad01bb336a",
   "metadata": {},
   "outputs": [
    {
     "name": "stdout",
     "output_type": "stream",
     "text": [
      "{'kapil', 'MSD', 'surya', <class 'list'>}\n"
     ]
    }
   ],
   "source": [
    "print(set)"
   ]
  },
  {
   "cell_type": "code",
   "execution_count": null,
   "id": "34030c26-db51-4592-8399-bc01e79820d2",
   "metadata": {},
   "outputs": [],
   "source": []
  },
  {
   "cell_type": "code",
   "execution_count": 29,
   "id": "978bbb04-53d7-4ee6-aefd-ae5a56ac4491",
   "metadata": {},
   "outputs": [
    {
     "data": {
      "text/plain": [
       "{10, 20, 30, 40, 50}"
      ]
     },
     "execution_count": 29,
     "metadata": {},
     "output_type": "execute_result"
    }
   ],
   "source": [
    "#question 4\n",
    "set1={10,20,30,40,50}\n",
    "set1"
   ]
  },
  {
   "cell_type": "code",
   "execution_count": 30,
   "id": "5f36924b-d803-4368-aa53-2a9ba46f79c5",
   "metadata": {},
   "outputs": [
    {
     "data": {
      "text/plain": [
       "{30, 40, 50, 60, 70}"
      ]
     },
     "execution_count": 30,
     "metadata": {},
     "output_type": "execute_result"
    }
   ],
   "source": [
    "set2={30,40,50,60,70}\n",
    "set2"
   ]
  },
  {
   "cell_type": "code",
   "execution_count": 33,
   "id": "1cc025d9-120c-4823-9919-b6cf3b431404",
   "metadata": {},
   "outputs": [],
   "source": [
    "set2.update(set1)"
   ]
  },
  {
   "cell_type": "code",
   "execution_count": 34,
   "id": "1e0eb5de-974c-4a9d-867e-161e69997601",
   "metadata": {},
   "outputs": [
    {
     "data": {
      "text/plain": [
       "{10, 20, 30, 40, 50, 60, 70}"
      ]
     },
     "execution_count": 34,
     "metadata": {},
     "output_type": "execute_result"
    }
   ],
   "source": [
    "set2"
   ]
  },
  {
   "cell_type": "code",
   "execution_count": null,
   "id": "bf01f6fa-e3b6-42a0-a39f-a2a54ac83042",
   "metadata": {},
   "outputs": [],
   "source": []
  },
  {
   "cell_type": "code",
   "execution_count": 1,
   "id": "5c26cbd3-274c-4191-9668-00572f272eab",
   "metadata": {},
   "outputs": [],
   "source": [
    "#question 5\n",
    "list1=[1,2,3,4,5,6,7]"
   ]
  },
  {
   "cell_type": "code",
   "execution_count": 2,
   "id": "05f3391f-9034-486e-94db-8642125cfe2b",
   "metadata": {},
   "outputs": [
    {
     "ename": "TypeError",
     "evalue": "'list' object is not callable",
     "output_type": "error",
     "traceback": [
      "\u001b[1;31m---------------------------------------------------------------------------\u001b[0m",
      "\u001b[1;31mTypeError\u001b[0m                                 Traceback (most recent call last)",
      "Cell \u001b[1;32mIn[2], line 1\u001b[0m\n\u001b[1;32m----> 1\u001b[0m list1(\u001b[38;5;28mmap\u001b[39m(\u001b[38;5;28;01mlambda\u001b[39;00m c:c\u001b[38;5;241m*\u001b[39m\u001b[38;5;241m*\u001b[39m\u001b[38;5;241m2\u001b[39m,list1))\n",
      "\u001b[1;31mTypeError\u001b[0m: 'list' object is not callable"
     ]
    }
   ],
   "source": [
    "list1(map(lambda c:c**2,list1))\n",
    "    \n"
   ]
  },
  {
   "cell_type": "code",
   "execution_count": null,
   "id": "0a832cd1-7f19-4730-ad4c-966b709c7ba2",
   "metadata": {},
   "outputs": [],
   "source": []
  },
  {
   "cell_type": "code",
   "execution_count": 4,
   "id": "f0c025fd-7895-4a0e-834b-c1b2a84f48ae",
   "metadata": {},
   "outputs": [],
   "source": [
    "#question 6\n",
    "list1=[10,20,[300,400,[5000,6000],30,40]]"
   ]
  },
  {
   "cell_type": "markdown",
   "id": "09df26df-c407-4b36-8e47-bf49bc6b6b2b",
   "metadata": {},
   "source": []
  },
  {
   "cell_type": "code",
   "execution_count": 5,
   "id": "3879fbec-a462-46dd-b485-b9004da76e45",
   "metadata": {},
   "outputs": [
    {
     "data": {
      "text/plain": [
       "[10, 20, [300, 400, [5000, 6000], 30, 40]]"
      ]
     },
     "execution_count": 5,
     "metadata": {},
     "output_type": "execute_result"
    }
   ],
   "source": [
    "list1"
   ]
  },
  {
   "cell_type": "markdown",
   "id": "8138a2b9-fc85-4a57-ba01-5f8559faa44c",
   "metadata": {},
   "source": [
    "#### "
   ]
  },
  {
   "cell_type": "code",
   "execution_count": 35,
   "id": "c9d7c7b7-6d33-416e-ab8f-2a1af8d3cfa1",
   "metadata": {},
   "outputs": [],
   "source": [
    "list1.insert(0,7000)"
   ]
  },
  {
   "cell_type": "code",
   "execution_count": 36,
   "id": "502f11ec-5a1e-409e-8992-3732301817c7",
   "metadata": {},
   "outputs": [
    {
     "data": {
      "text/plain": [
       "[7000,\n",
       " 7000,\n",
       " 10,\n",
       " 7000,\n",
       " 7000,\n",
       " 20,\n",
       " 7000,\n",
       " [300, 400, [5000, 6000], 30, 40],\n",
       " 7000,\n",
       " 7000,\n",
       " 7000]"
      ]
     },
     "execution_count": 36,
     "metadata": {},
     "output_type": "execute_result"
    }
   ],
   "source": [
    "list1"
   ]
  },
  {
   "cell_type": "markdown",
   "id": "7b073f89-e5c2-4389-b01e-83b70dc2a6c8",
   "metadata": {},
   "source": [
    "### "
   ]
  },
  {
   "cell_type": "code",
   "execution_count": null,
   "id": "0b1563ed-6b26-46fd-b9d7-159c9659e8dd",
   "metadata": {},
   "outputs": [],
   "source": []
  }
 ],
 "metadata": {
  "kernelspec": {
   "display_name": "Python 3 (ipykernel)",
   "language": "python",
   "name": "python3"
  },
  "language_info": {
   "codemirror_mode": {
    "name": "ipython",
    "version": 3
   },
   "file_extension": ".py",
   "mimetype": "text/x-python",
   "name": "python",
   "nbconvert_exporter": "python",
   "pygments_lexer": "ipython3",
   "version": "3.12.4"
  }
 },
 "nbformat": 4,
 "nbformat_minor": 5
}
